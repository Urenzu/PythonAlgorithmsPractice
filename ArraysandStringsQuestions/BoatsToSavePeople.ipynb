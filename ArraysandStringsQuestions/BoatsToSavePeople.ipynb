{
 "cells": [
  {
   "cell_type": "markdown",
   "id": "de94d312-65c0-425f-b9e9-61d92b52e49c",
   "metadata": {},
   "source": [
    "# My Attempt:"
   ]
  },
  {
   "cell_type": "code",
   "execution_count": 8,
   "id": "8d0c03bc-c830-4400-83a0-e7c4de1dcf84",
   "metadata": {},
   "outputs": [],
   "source": [
    "# Got it working in LeetCode.\n",
    "class Solution(object):\n",
    "    def numRescueBoats(self, people, limit):\n",
    "        people.sort()\n",
    "        heaviest = len(people) - 1\n",
    "        lightest = 0\n",
    "        boats = 0\n",
    "\n",
    "        while heaviest >= lightest:\n",
    "            if(people[heaviest] + people[lightest] <= limit):\n",
    "                boats += 1\n",
    "                heaviest -= 1\n",
    "                lightest += 1\n",
    "            else:\n",
    "                boats+=1\n",
    "                heaviest -= 1\n",
    "            \n",
    "        return boats"
   ]
  },
  {
   "cell_type": "markdown",
   "id": "18b83068-ad1e-483a-84b1-2ec50a3c07d1",
   "metadata": {},
   "source": [
    "# The Solution:"
   ]
  },
  {
   "cell_type": "code",
   "execution_count": 10,
   "id": "a7997f62-7a76-4b58-b2d7-bb9edcce73f4",
   "metadata": {},
   "outputs": [],
   "source": [
    "# Time complexity: nlog(n) because of sorting function.\n",
    "# Space complexity: o(n), people.sort uses o(n)\n",
    "\n",
    "class Solution(object):\n",
    "    def numRescueBoats(self, people, limit):\n",
    "        people.sort()\n",
    "\n",
    "        left = 0\n",
    "        right = len(people)-1\n",
    "\n",
    "        boats_number = 0\n",
    "\n",
    "        while(left<=right):\n",
    "            if(left==right):\n",
    "                boats_number+=1\n",
    "                break\n",
    "            if(people[left]+people[right]<=limit):\n",
    "                left+=1\n",
    "\n",
    "            right-=1\n",
    "            boats_number+=1\n",
    "        return boats_number"
   ]
  },
  {
   "cell_type": "code",
   "execution_count": null,
   "id": "c84f19ab-319e-4d6d-8a76-8af3e55f917f",
   "metadata": {},
   "outputs": [],
   "source": []
  }
 ],
 "metadata": {
  "kernelspec": {
   "display_name": "Python 3 (ipykernel)",
   "language": "python",
   "name": "python3"
  },
  "language_info": {
   "codemirror_mode": {
    "name": "ipython",
    "version": 3
   },
   "file_extension": ".py",
   "mimetype": "text/x-python",
   "name": "python",
   "nbconvert_exporter": "python",
   "pygments_lexer": "ipython3",
   "version": "3.9.12"
  }
 },
 "nbformat": 4,
 "nbformat_minor": 5
}
