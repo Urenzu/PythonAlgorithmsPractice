{
 "cells": [
  {
   "cell_type": "markdown",
   "id": "300a6b5f-2232-4d35-bb30-97e3893e930a",
   "metadata": {},
   "source": [
    "# My Attempt:"
   ]
  },
  {
   "cell_type": "code",
   "execution_count": 13,
   "id": "d038cd1f-e211-477e-b19a-16e312623d77",
   "metadata": {},
   "outputs": [],
   "source": [
    "# Got it working in LeetCode.\n",
    "class Solution(object):\n",
    "    def moveZeroes(self,array):\n",
    "        j = 0\n",
    "        for i in array:\n",
    "            if(i!=0):\n",
    "                array[j] = array\n",
    "                j+= 1\n",
    "                \n",
    "        for x in range(j, len(array)):\n",
    "            array[x] = 0"
   ]
  },
  {
   "cell_type": "markdown",
   "id": "8f932b05-b546-41af-a017-8e176c7cd157",
   "metadata": {},
   "source": [
    "# The Solution:"
   ]
  },
  {
   "cell_type": "code",
   "execution_count": 14,
   "id": "97c9bcd2-d80e-4446-bd41-2559c200009b",
   "metadata": {
    "tags": []
   },
   "outputs": [],
   "source": [
    "class Solution(object):\n",
    "    def moveZeroes(self, nums):\n",
    "        j = 0\n",
    "\n",
    "        for num in nums:\n",
    "            if(num!=0):\n",
    "                nums[j] = num\n",
    "                j += 1\n",
    "        \n",
    "        for x in range(j, len(nums)):\n",
    "            nums[x] = 0"
   ]
  },
  {
   "cell_type": "code",
   "execution_count": null,
   "id": "8e4a0f9b-e98c-4422-91bf-efc9cdde072b",
   "metadata": {},
   "outputs": [],
   "source": []
  }
 ],
 "metadata": {
  "kernelspec": {
   "display_name": "Python 3 (ipykernel)",
   "language": "python",
   "name": "python3"
  },
  "language_info": {
   "codemirror_mode": {
    "name": "ipython",
    "version": 3
   },
   "file_extension": ".py",
   "mimetype": "text/x-python",
   "name": "python",
   "nbconvert_exporter": "python",
   "pygments_lexer": "ipython3",
   "version": "3.9.12"
  }
 },
 "nbformat": 4,
 "nbformat_minor": 5
}
