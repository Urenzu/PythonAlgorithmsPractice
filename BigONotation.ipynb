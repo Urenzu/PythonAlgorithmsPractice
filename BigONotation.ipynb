{
 "cells": [
  {
   "cell_type": "markdown",
   "id": "c93d4d1e-c0fe-4f9a-9468-04832be1d2d2",
   "metadata": {},
   "source": [
    "# Big O Notation"
   ]
  },
  {
   "cell_type": "markdown",
   "id": "71974d12-5fe8-4875-83b6-b0d65d4a2047",
   "metadata": {},
   "source": [
    "Understanding big O is important for improving efficiency of your code by making tradeoffs between space and time complexity."
   ]
  },
  {
   "cell_type": "markdown",
   "id": "9554cc83-0776-4227-96ee-a72ca244a151",
   "metadata": {},
   "source": [
    "Answer the following questions to make our code better.\n",
    "- How can we make our code take less space?\n",
    "- How can we make our code take less time?"
   ]
  },
  {
   "cell_type": "markdown",
   "id": "2c161745-7af4-46bc-b7f2-31c3d5b2b7e3",
   "metadata": {},
   "source": [
    "<img src=\"https://droidtechknow.com/programming/algorithms/big-o-notation/images/big-o-notation.jpg\" width=\"500\" height=\"500\" />\n",
    "<img src=\"https://qph.cf2.quoracdn.net/main-qimg-22c307bb694f518b82c515cd12c24920\" width=\"600\" height=\"600\" />"
   ]
  },
  {
   "cell_type": "code",
   "execution_count": 24,
   "id": "bf6780d9-17f7-4d86-94ab-1024387ccee2",
   "metadata": {},
   "outputs": [
    {
     "name": "stdout",
     "output_type": "stream",
     "text": [
      "sum of array:  10.0\n"
     ]
    }
   ],
   "source": [
    "# Time complexity is O(1) because on every element the same number of operations occurs, this code has a constant number of operations.\n",
    "\n",
    "nums = [1, 2, 3, 4]\n",
    "n = len(nums)\n",
    "print('sum of array: ', n * (n + 1) / 2)"
   ]
  },
  {
   "cell_type": "code",
   "execution_count": 25,
   "id": "41b84f1e-c95b-4f93-9558-c612e0a4bb91",
   "metadata": {},
   "outputs": [
    {
     "name": "stdout",
     "output_type": "stream",
     "text": [
      "Sum of array:  10\n"
     ]
    }
   ],
   "source": [
    "# 5N + 3 operations, increase in complexity.\n",
    "\n",
    "nums = [1, 2, 3, 4]\n",
    "n = len(nums)\n",
    "sum = 0\n",
    "\n",
    "for i in range(0,n):\n",
    "    sum+=nums[i]\n",
    "print(\"Sum of array: \", sum)"
   ]
  },
  {
   "cell_type": "code",
   "execution_count": 26,
   "id": "a064e403-27b8-4d8c-a20e-28f9ec997db0",
   "metadata": {},
   "outputs": [
    {
     "name": "stdout",
     "output_type": "stream",
     "text": [
      "10\n"
     ]
    }
   ],
   "source": [
    "# O(n) the time scales with data input linearly.\n",
    "def SumUpToN(n):\n",
    "    sum = 0\n",
    "    for i in range(0,n+1):\n",
    "        sum += i\n",
    "    return sum\n",
    "result = SumUpToN(4)\n",
    "print(result)"
   ]
  },
  {
   "cell_type": "code",
   "execution_count": 27,
   "id": "ec70b4bf-c2b0-452a-ba08-60d537250046",
   "metadata": {},
   "outputs": [
    {
     "name": "stdout",
     "output_type": "stream",
     "text": [
      "10.0\n"
     ]
    }
   ],
   "source": [
    "# O(1)\n",
    "\n",
    "def SumUpToN(n):\n",
    "    return n*(n+1)/2\n",
    "result = SumUpToN(4)\n",
    "print(result)"
   ]
  },
  {
   "cell_type": "code",
   "execution_count": 28,
   "id": "d67f8111-9f96-4695-a01b-2aa13d65eb18",
   "metadata": {},
   "outputs": [],
   "source": [
    "# O(n^n), because we have multiple loops on top of eachother within the function. O(n^2)\n",
    "\n",
    "def quadratic(n):\n",
    "    for i in range(0,n):\n",
    "        for j in range(0,n):\n",
    "            print('This is quadratic.')"
   ]
  },
  {
   "cell_type": "code",
   "execution_count": 29,
   "id": "d43dd2f0-fe39-4c56-80a7-0680f0be1a8e",
   "metadata": {},
   "outputs": [],
   "source": [
    "# O(n^n), O(n^3)\n",
    "\n",
    "def cubicPrint(n):\n",
    "    for i in range(0,n):\n",
    "        for j in range(0,n):\n",
    "            for k in range(0,n):\n",
    "                print('This is cubic.')"
   ]
  },
  {
   "cell_type": "code",
   "execution_count": 31,
   "id": "54a64327-6588-4ac9-b83e-77fd7fba0f00",
   "metadata": {},
   "outputs": [
    {
     "name": "stdout",
     "output_type": "stream",
     "text": [
      "sum of array:  10\n"
     ]
    }
   ],
   "source": [
    "# Process of simplifying algorithm. 5n + 3 = O(n), (We ignore the constants for complexity.)\n",
    "\n",
    "nums = [1, 2, 3, 4]\n",
    "n = len(nums)\n",
    "sum = 0\n",
    "\n",
    "for i in range(0, n):\n",
    "    sum += nums[i]\n",
    "print('sum of array: ', sum)"
   ]
  },
  {
   "cell_type": "code",
   "execution_count": 33,
   "id": "93759c00-50fc-4a33-a570-5ce1cc4fc1c5",
   "metadata": {},
   "outputs": [],
   "source": [
    "# O(1)\n",
    "\n",
    "def SumUpTo(arr):\n",
    "    sum = 0\n",
    "    n = len(arr)\n",
    "    for i in range(0,n):\n",
    "        sum+=arr[i]\n",
    "    return sum"
   ]
  },
  {
   "cell_type": "code",
   "execution_count": 35,
   "id": "202bcd54-8605-4cd9-9f1c-becb29f58578",
   "metadata": {},
   "outputs": [],
   "source": [
    "# O(n) Array size has a linear relationship with the loop.\n",
    "\n",
    "def getarrupto(n):\n",
    "    arr=[]\n",
    "    for i in range(0,n):\n",
    "        arr.add(i)\n",
    "    return arr"
   ]
  },
  {
   "cell_type": "markdown",
   "id": "dcabb01c-6d8b-400e-94db-8329d1d57a16",
   "metadata": {},
   "source": [
    "- Hash Tables: O(n)\n",
    "- Stacks: O(n)\n",
    "- Queues: O(n)\n",
    "- Strings: O(n)\n",
    "- Arrays: O(n)\n",
    "- 2d Arrays: O(nm) n multiplied by m, n and m representing rows and columns"
   ]
  },
  {
   "cell_type": "markdown",
   "id": "ec6e6433-4bce-4582-9fb0-d0640b6f5421",
   "metadata": {},
   "source": [
    "All of these structures have a linear relationship with the number of elements needed to be allocated to memory."
   ]
  },
  {
   "cell_type": "markdown",
   "id": "982c035e-5910-4d4d-b7e6-7185559db764",
   "metadata": {},
   "source": [
    "log2(16) = 4  \n",
    "2^4 = 16\n",
    "\n",
    "- Take the base of the log and add a power to that number which gets your log value.\n",
    "- 2^exponent = value.\n",
    "- In Computer Science we focus on log to the base of 2."
   ]
  },
  {
   "cell_type": "markdown",
   "id": "78384640-f162-41f5-878c-1a4ad3224ed9",
   "metadata": {},
   "source": [
    "A logarithm represents the number of time you can divide a number by the log's base, before you get a value that's less than or equal to 1."
   ]
  },
  {
   "cell_type": "markdown",
   "id": "03a4353e-4df7-4844-9ccd-60ecd4cf050c",
   "metadata": {},
   "source": [
    "- log2(16) = 4\n",
    "1. 16 / 2 = 8\n",
    "2. 8 / 2 = 4\n",
    "3. 4 / 2 = 2\n",
    "4. 2 / 2 = 1\n",
    "- Number of divisions to get to one is 4.\n",
    "- With an input of 16 it takes 4 operations to reach the end of the algorithm, but in linear time it would take 16."
   ]
  },
  {
   "cell_type": "markdown",
   "id": "e2752495-8d00-4853-a81f-32226b53013f",
   "metadata": {},
   "source": [
    "log(n) is better than O(n)  \n",
    "nlog(n) is better than n^2  \n",
    "nlog(n) is worse than O(n)"
   ]
  },
  {
   "cell_type": "markdown",
   "id": "d5c34eaa-f9fc-4a9d-96b2-cb4be1a48c5e",
   "metadata": {},
   "source": [
    "- Binary Search: log(n)\n",
    "- Merge Sort: nlog(n)"
   ]
  },
  {
   "cell_type": "code",
   "execution_count": null,
   "id": "c358fa0c-9674-4667-9673-f487f139dd59",
   "metadata": {},
   "outputs": [],
   "source": []
  }
 ],
 "metadata": {
  "kernelspec": {
   "display_name": "Python 3 (ipykernel)",
   "language": "python",
   "name": "python3"
  },
  "language_info": {
   "codemirror_mode": {
    "name": "ipython",
    "version": 3
   },
   "file_extension": ".py",
   "mimetype": "text/x-python",
   "name": "python",
   "nbconvert_exporter": "python",
   "pygments_lexer": "ipython3",
   "version": "3.9.12"
  }
 },
 "nbformat": 4,
 "nbformat_minor": 5
}
