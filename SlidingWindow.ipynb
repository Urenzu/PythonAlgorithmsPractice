{
 "cells": [
  {
   "cell_type": "markdown",
   "id": "b2df04db-718d-4b41-aa42-d1f24fca2fee",
   "metadata": {},
   "source": [
    "# Sliding Window Technique"
   ]
  },
  {
   "cell_type": "markdown",
   "id": "cf91ef46-fee4-4a2c-96d6-d18d2c0aa75b",
   "metadata": {},
   "source": [
    "- Given an array of integers of size n, find maximum sum of k consecutive elements.  \n",
    "- k = the size of the window or number of elements we're generating a sum from."
   ]
  },
  {
   "cell_type": "code",
   "execution_count": 5,
   "id": "490d5d78-59c0-45bb-8584-bbefff5587c7",
   "metadata": {},
   "outputs": [
    {
     "name": "stdout",
     "output_type": "stream",
     "text": [
      "190\n"
     ]
    }
   ],
   "source": [
    "def maxSum(arr, WindowSize):\n",
    "    arraySize = len(arr)\n",
    "    if(arraySize<=WindowSize):\n",
    "        print('Invalid operation')\n",
    "        return -1\n",
    "    \n",
    "    window_sum = sum([arr[i] for i in range(WindowSize)])\n",
    "    max_sum = window_sum\n",
    "    \n",
    "    for i in range(arraySize - WindowSize):\n",
    "        window_sum = window_sum - arr[i] + arr[i + WindowSize]\n",
    "        max_sum = max(window_sum, max_sum)\n",
    "        \n",
    "    return max_sum\n",
    "          \n",
    "arr = [80, -50, 90, 100]\n",
    "k = 2 # Window length\n",
    "answer = maxSum(arr,k) # Answer is 190\n",
    "print(answer)"
   ]
  },
  {
   "cell_type": "code",
   "execution_count": null,
   "id": "6fef50e7-0464-4905-bf27-87f4196dd029",
   "metadata": {},
   "outputs": [],
   "source": []
  }
 ],
 "metadata": {
  "kernelspec": {
   "display_name": "Python 3 (ipykernel)",
   "language": "python",
   "name": "python3"
  },
  "language_info": {
   "codemirror_mode": {
    "name": "ipython",
    "version": 3
   },
   "file_extension": ".py",
   "mimetype": "text/x-python",
   "name": "python",
   "nbconvert_exporter": "python",
   "pygments_lexer": "ipython3",
   "version": "3.9.12"
  }
 },
 "nbformat": 4,
 "nbformat_minor": 5
}
