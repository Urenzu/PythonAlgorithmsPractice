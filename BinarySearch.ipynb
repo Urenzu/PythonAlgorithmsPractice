{
 "cells": [
  {
   "cell_type": "markdown",
   "id": "7dc405cd-99da-4437-9c0f-573560387147",
   "metadata": {},
   "source": [
    "# Binary Search"
   ]
  },
  {
   "cell_type": "markdown",
   "id": "22620565-84e2-441b-b1d7-710e50228146",
   "metadata": {},
   "source": [
    "- Only works on sorted collections of elements."
   ]
  },
  {
   "cell_type": "markdown",
   "id": "a5298a27-8ba9-4139-af4a-776709990ea8",
   "metadata": {},
   "source": [
    "1) Array = [1, 2, 3, 4, 5, 6, 7, 8, 9] (Ascending)"
   ]
  },
  {
   "cell_type": "markdown",
   "id": "71ae7b4c-e078-4def-8c0e-bd7b27a2e7d8",
   "metadata": {},
   "source": [
    "- Initialize 2 pointers, start at beginning of array, end at the end of the array.\n",
    "- Find the element at the middle of the 2 pointers.\n",
    "- If element at the middle is bigger than our goal, set end pointer to middle.\n",
    "- If element at the middle is smaller than our goal, set start pointer to middle + 1."
   ]
  },
  {
   "cell_type": "markdown",
   "id": "deac50ff-ab06-4f05-a137-f1cc49cf355e",
   "metadata": {},
   "source": [
    "- Will work with descending as well."
   ]
  },
  {
   "cell_type": "code",
   "execution_count": 6,
   "id": "c04a4c82-68ed-4f7f-8170-975e5e4f6db4",
   "metadata": {},
   "outputs": [
    {
     "name": "stdout",
     "output_type": "stream",
     "text": [
      "Element is present at index: 5\n"
     ]
    }
   ],
   "source": [
    "def binarySearch(arr, target):\n",
    "    left = 0\n",
    "    right = len(arr) - 1 # Pointing to last element in our array.\n",
    "    \n",
    "    while(left <= right):\n",
    "        mid = (left + right) // 2 # Floor division so we don't get a float. (Doesn't round up)\n",
    "        \n",
    "        if(arr[mid] == target):\n",
    "            return mid\n",
    "        elif(arr[mid] < target):\n",
    "            left = mid + 1\n",
    "        else:\n",
    "            right = mid - 1\n",
    "    return -1\n",
    "\n",
    "arr = [1, 2, 3, 4, 5, 6]\n",
    "target = 6\n",
    "\n",
    "result = binarySearch(arr, target) # Should return the index of the target\n",
    "\n",
    "if result != -1:\n",
    "    print(\"Element is present at index:\", result)\n",
    "else:\n",
    "    print(\"Element is not present in the array.\")"
   ]
  },
  {
   "cell_type": "code",
   "execution_count": null,
   "id": "bb84cc9a-222a-4e67-b1a0-350ba4b94cba",
   "metadata": {},
   "outputs": [],
   "source": []
  }
 ],
 "metadata": {
  "kernelspec": {
   "display_name": "Python 3 (ipykernel)",
   "language": "python",
   "name": "python3"
  },
  "language_info": {
   "codemirror_mode": {
    "name": "ipython",
    "version": 3
   },
   "file_extension": ".py",
   "mimetype": "text/x-python",
   "name": "python",
   "nbconvert_exporter": "python",
   "pygments_lexer": "ipython3",
   "version": "3.9.12"
  }
 },
 "nbformat": 4,
 "nbformat_minor": 5
}
